{
  "nbformat": 4,
  "nbformat_minor": 0,
  "metadata": {
    "colab": {
      "provenance": [],
      "authorship_tag": "ABX9TyM+fkk0PJsra2kOJ5gKvQpG",
      "include_colab_link": true
    },
    "kernelspec": {
      "name": "python3",
      "display_name": "Python 3"
    },
    "language_info": {
      "name": "python"
    }
  },
  "cells": [
    {
      "cell_type": "markdown",
      "metadata": {
        "id": "view-in-github",
        "colab_type": "text"
      },
      "source": [
        "<a href=\"https://colab.research.google.com/github/trefftzc/partition_COLAB_notebooks/blob/main/partition_mpi4py.ipynb\" target=\"_parent\"><img src=\"https://colab.research.google.com/assets/colab-badge.svg\" alt=\"Open In Colab\"/></a>"
      ]
    },
    {
      "cell_type": "markdown",
      "source": [
        "# Solving the partition problem with MPI\n",
        "The library mpi4py allows a python developer to use MPI to solve a problem.\n",
        "\n",
        "The documentation for mpi4py is available in this web site: https://mpi4py.readthedocs.io/en/stable/intro.html"
      ],
      "metadata": {
        "id": "PeCUCKDRQE_d"
      }
    },
    {
      "cell_type": "markdown",
      "source": [
        "mpi4py is not installed by default on COLAB, hence it is necessary to install it on COLAB."
      ],
      "metadata": {
        "id": "Nd1DauM0QOkZ"
      }
    },
    {
      "cell_type": "code",
      "source": [
        "\n",
        "!pip install mpi4py"
      ],
      "metadata": {
        "colab": {
          "base_uri": "https://localhost:8080/"
        },
        "id": "98vzn_pl7rYP",
        "outputId": "9ac5cbea-be74-4078-c57e-d7f49ad028f1"
      },
      "execution_count": 2,
      "outputs": [
        {
          "output_type": "stream",
          "name": "stdout",
          "text": [
            "Collecting mpi4py\n",
            "  Downloading mpi4py-3.1.5.tar.gz (2.5 MB)\n",
            "\u001b[2K     \u001b[90m━━━━━━━━━━━━━━━━━━━━━━━━━━━━━━━━━━━━━━━━\u001b[0m \u001b[32m2.5/2.5 MB\u001b[0m \u001b[31m9.0 MB/s\u001b[0m eta \u001b[36m0:00:00\u001b[0m\n",
            "\u001b[?25h  Installing build dependencies ... \u001b[?25l\u001b[?25hdone\n",
            "  Getting requirements to build wheel ... \u001b[?25l\u001b[?25hdone\n",
            "  Preparing metadata (pyproject.toml) ... \u001b[?25l\u001b[?25hdone\n",
            "Building wheels for collected packages: mpi4py\n",
            "  Building wheel for mpi4py (pyproject.toml) ... \u001b[?25l\u001b[?25hdone\n",
            "  Created wheel for mpi4py: filename=mpi4py-3.1.5-cp310-cp310-linux_x86_64.whl size=2746519 sha256=09a4ddd7bf31fe2ae7c1752075846528affb0b8dfd2e8de2ac6cadd9f662c192\n",
            "  Stored in directory: /root/.cache/pip/wheels/18/2b/7f/c852523089e9182b45fca50ff56f49a51eeb6284fd25a66713\n",
            "Successfully built mpi4py\n",
            "Installing collected packages: mpi4py\n",
            "Successfully installed mpi4py-3.1.5\n"
          ]
        }
      ]
    },
    {
      "cell_type": "markdown",
      "source": [
        "We will write the source code to a python file that can be later executed using the ! option in COLAB.\n",
        "The ! option allows one to access a command line.\n",
        "\n",
        "This is very handy to be able to use input redirection with test files.\n",
        "\n",
        "The general design of the program is to partition the range of values\n",
        "that need to be tested among the participating nodes.\n",
        "Every node works on a subset of the values.\n",
        "\n",
        "Notice that MPI calls were needed only in the main function.\n",
        "The  functions evaluatePartition and printResults did not require any changes.\n",
        "\n",
        "The function solve now receives two additional parameters, the begin and\n",
        "the end of the subrange of values being tested on this particular node.\n",
        "\n",
        "\n"
      ],
      "metadata": {
        "id": "_-7s6To5QV6o"
      }
    },
    {
      "cell_type": "code",
      "execution_count": 5,
      "metadata": {
        "colab": {
          "base_uri": "https://localhost:8080/"
        },
        "id": "SCJT34ebzDmL",
        "outputId": "d032dd17-7865-4a58-f659-6227aa9a8f55"
      },
      "outputs": [
        {
          "output_type": "stream",
          "name": "stdout",
          "text": [
            "Writing partition_mpi4py.py\n"
          ]
        }
      ],
      "source": [
        "%%writefile partition_mpi4py.py\n",
        "from mpi4py import MPI\n",
        "import time\n",
        "import numpy as np\n",
        "\n",
        "# This function has not changed from the previous versions\n",
        "# There are no changes related to MPI in this function\n",
        "\n",
        "def evaluatePartition(value,n,array):\n",
        "\n",
        "  sum0s = 0\n",
        "  sum1s = 0\n",
        "  mask = 1\n",
        "  for i in range(0,n):\n",
        "    if ((mask & value) != 0):\n",
        "      sum1s = sum1s + array[i]\n",
        "    else:\n",
        "      sum0s = sum0s + array[i]\n",
        "    mask = mask*2\n",
        "\n",
        "  if (sum0s == sum1s):\n",
        "    return 1\n",
        "  else:\n",
        "    return 0\n",
        "\n",
        "# This function has not changed from the previous versions\n",
        "# There are no changes related to MPI in this function\n",
        "\n",
        "def printResults(value,n,array):\n",
        "  print(\"Solution:\")\n",
        "  print(\"First partition: \")\n",
        "  mask = 1\n",
        "  sum = 0\n",
        "  for i in range(0,n):\n",
        "    if ((mask & value) != 0):\n",
        "      print(array[i],\" \")\n",
        "      sum = sum + array[i]\n",
        "    mask = mask * 2\n",
        "\n",
        "  print(\"sum: \",sum)\n",
        "  print(\"Second partition: \")\n",
        "  mask = 1\n",
        "  sum = 0\n",
        "  for i in range(0,n):\n",
        "    if ((mask & value) == 0):\n",
        "      print(array[i],\" \")\n",
        "      sum = sum + array[i]\n",
        "    mask = mask * 2\n",
        "\n",
        "  print(\"sum: \",sum)\n",
        "\n",
        "\n",
        "def solve(numpyArray,nPartitions,n,begin,end):\n",
        "  solutionFound = 0\n",
        "  for i in range(begin,end):\n",
        "    r = evaluatePartition(i,n,numpyArray)\n",
        "    if (r==1):\n",
        "      solutionFound = max(solutionFound,i)\n",
        "  if (solutionFound != 0):\n",
        "    return solutionFound\n",
        "  else:\n",
        "    return -1\n",
        "\n",
        "# The changes necessary to use MPI (mpi4py)\n",
        "# are limited to the main program\n",
        "\n",
        "if __name__ == \"__main__\":\n",
        "\n",
        "  comm = MPI.COMM_WORLD\n",
        "  rank = comm.Get_rank()\n",
        "  number_nodes = comm.Get_size()\n",
        "  # If this is the master node, read the problem\n",
        "  if rank == 0:\n",
        "    start = time.time()\n",
        "  if rank == 0:\n",
        "    n = int(input())\n",
        "    valuesString = input()\n",
        "    values = valuesString.split()\n",
        "    for i in range(len(values)):\n",
        "      values[i] = int(values[i])\n",
        "  # Print the instance of the problem\n",
        "    print(\"Problem size: \",n)\n",
        "    print(\"Problem instance: \",values)\n",
        "  else:\n",
        "    n = None\n",
        "\n",
        "# Broadcast the size of the problem, the number of entries\n",
        "# in the multiset to all participating nodes\n",
        "  n = comm.bcast(n,root=0)\n",
        "\n",
        "# Broadcast the multiset to all participating nodes\n",
        "  if rank == 0:\n",
        "    npValues = np.array(values)\n",
        "  else:\n",
        "    npValues = np.arange(n,dtype='i')\n",
        "\n",
        "  npValues = comm.bcast(npValues,root=0)\n",
        "\n",
        "# Calculate the size of the power set\n",
        "  nPartitions = int ( 2 ** n )\n",
        "\n",
        "# Calculate the portion of the power set that each\n",
        "# node will be working on\n",
        "  portionEachNode = nPartitions // number_nodes\n",
        "  initial = portionEachNode * rank;\n",
        "  if (rank != (number_nodes-1)):\n",
        "    final = initial + portionEachNode\n",
        "  else:\n",
        "    final = nPartitions\n",
        "\n",
        "  max_in_this_node = solve(npValues,nPartitions,n,initial,final)\n",
        "\n",
        "  result = comm.reduce(max_in_this_node,op=MPI.MAX)\n",
        "  if rank == 0:\n",
        "    if result == -1:\n",
        "      print(\"No solution found.\")\n",
        "    else:\n",
        "      printResults(result,n,npValues)\n",
        "  if rank == 0:\n",
        "    end = time.time()\n",
        "    elapsed = end - start\n",
        "    print(\"The program took: \",elapsed,\" seconds.\")\n",
        "\n"
      ]
    },
    {
      "cell_type": "code",
      "source": [
        "%%writefile test27.Text\n",
        "27\n",
        "1 2 3 4 5 6 7 8 9 10 11 12 13 14 15 16 17 18 19 20 21 22 23 24 25 26 27"
      ],
      "metadata": {
        "colab": {
          "base_uri": "https://localhost:8080/"
        },
        "id": "Hr1-qiOR6sQ1",
        "outputId": "7de91ced-eb50-41ec-b7dc-e70d2db2483d"
      },
      "execution_count": null,
      "outputs": [
        {
          "output_type": "stream",
          "name": "stdout",
          "text": [
            "Writing test27.Text\n"
          ]
        }
      ]
    },
    {
      "cell_type": "code",
      "source": [
        "!OMPI_ALLOW_RUN_AS_ROOT=1\n",
        "!mpiexec --allow-run-as-root -n 2 --oversubscribe python partition_mpi4py.py < test11.Text\n"
      ],
      "metadata": {
        "colab": {
          "base_uri": "https://localhost:8080/"
        },
        "id": "oyJZwrrG6wZd",
        "outputId": "1b4b35fd-c081-4351-a514-095d5e11efb1"
      },
      "execution_count": null,
      "outputs": [
        {
          "output_type": "stream",
          "name": "stdout",
          "text": [
            "Problem size:  12\n",
            "Problem instance:  [1, 2, 3, 4, 5, 6, 7, 8, 9, 10, 11, 12]\n",
            "Solution:\n",
            "First partition: \n",
            "6  \n",
            "10  \n",
            "11  \n",
            "12  \n",
            "sum:  39\n",
            "Second partition: \n",
            "1  \n",
            "2  \n",
            "3  \n",
            "4  \n",
            "5  \n",
            "7  \n",
            "8  \n",
            "9  \n",
            "sum:  39\n",
            "The program took:  0.03512144088745117  seconds.\n"
          ]
        }
      ]
    },
    {
      "cell_type": "code",
      "source": [
        "%%writefile test11.Text\n",
        "11\n",
        "1 2 3 4 5 6 7 8 9 10 11"
      ],
      "metadata": {
        "colab": {
          "base_uri": "https://localhost:8080/"
        },
        "id": "VB1fO-ZjAdtu",
        "outputId": "a28e2715-53be-4d6e-e5be-d3bcec569d3c"
      },
      "execution_count": 3,
      "outputs": [
        {
          "output_type": "stream",
          "name": "stdout",
          "text": [
            "Writing test11.Text\n"
          ]
        }
      ]
    },
    {
      "cell_type": "code",
      "source": [
        "%%writefile test12.Text\n",
        "12\n",
        "1 1 1 1 1 1 1 1 1 1 1 11"
      ],
      "metadata": {
        "colab": {
          "base_uri": "https://localhost:8080/"
        },
        "id": "7cAirQrOFfsA",
        "outputId": "1ec2e7ce-d40b-42c8-eab1-daca14a24b61"
      },
      "execution_count": null,
      "outputs": [
        {
          "output_type": "stream",
          "name": "stdout",
          "text": [
            "Overwriting test12.Text\n"
          ]
        }
      ]
    },
    {
      "cell_type": "code",
      "source": [
        "%%writefile test4.Text\n",
        "4\n",
        "1 1 1 3"
      ],
      "metadata": {
        "colab": {
          "base_uri": "https://localhost:8080/"
        },
        "id": "H9YX8yzaHMPx",
        "outputId": "483e11b9-5cb9-456c-c323-31286ae7948f"
      },
      "execution_count": null,
      "outputs": [
        {
          "output_type": "stream",
          "name": "stdout",
          "text": [
            "Writing test4.Text\n"
          ]
        }
      ]
    },
    {
      "cell_type": "markdown",
      "source": [
        "# And if we add NUMBA, do we get better performance?\n"
      ],
      "metadata": {
        "id": "VOpB19rBtrzW"
      }
    },
    {
      "cell_type": "code",
      "source": [
        "%%writefile partition_mpi4py_numba.py\n",
        "from mpi4py import MPI\n",
        "import time\n",
        "import numpy as np\n",
        "from numba import jit\n",
        "\n",
        "\n",
        "# This function has not changed from the previous versions\n",
        "# There are no changes related to MPI in this function\n",
        "@jit(nopython=True)\n",
        "def evaluatePartition(value,n,array):\n",
        "\n",
        "  sum0s = 0\n",
        "  sum1s = 0\n",
        "  mask = 1\n",
        "  for i in range(0,n):\n",
        "    if ((mask & value) != 0):\n",
        "      sum1s = sum1s + array[i]\n",
        "    else:\n",
        "      sum0s = sum0s + array[i]\n",
        "    mask = mask*2\n",
        "\n",
        "  if (sum0s == sum1s):\n",
        "    return 1\n",
        "  else:\n",
        "    return 0\n",
        "\n",
        "# This function has not changed from the previous versions\n",
        "# There are no changes related to MPI in this function\n",
        "@jit(nopython=True)\n",
        "def printResults(value,n,array):\n",
        "  print(\"Solution:\")\n",
        "  print(\"First partition: \")\n",
        "  mask = 1\n",
        "  sum = 0\n",
        "  for i in range(0,n):\n",
        "    if ((mask & value) != 0):\n",
        "      print(array[i],\" \")\n",
        "      sum = sum + array[i]\n",
        "    mask = mask * 2\n",
        "\n",
        "  print(\"sum: \",sum)\n",
        "  print(\"Second partition: \")\n",
        "  mask = 1\n",
        "  sum = 0\n",
        "  for i in range(0,n):\n",
        "    if ((mask & value) == 0):\n",
        "      print(array[i],\" \")\n",
        "      sum = sum + array[i]\n",
        "    mask = mask * 2\n",
        "\n",
        "  print(\"sum: \",sum)\n",
        "\n",
        "@jit(nopython=True)\n",
        "def solve(numpyArray,nPartitions,n,begin,end):\n",
        "  solutionFound = 0\n",
        "  for i in range(begin,end):\n",
        "    r = evaluatePartition(i,n,numpyArray)\n",
        "    if (r==1):\n",
        "      solutionFound = max(solutionFound,i)\n",
        "  if (solutionFound != 0):\n",
        "    return solutionFound\n",
        "  else:\n",
        "    return -1\n",
        "\n",
        "# The changes necessary to use MPI (mpi4py)\n",
        "# are limited to the main program\n",
        "\n",
        "if __name__ == \"__main__\":\n",
        "\n",
        "  comm = MPI.COMM_WORLD\n",
        "  rank = comm.Get_rank()\n",
        "  number_nodes = comm.Get_size()\n",
        "  # If this is the master node, read the problem\n",
        "  if rank == 0:\n",
        "    start = time.time()\n",
        "  if rank == 0:\n",
        "    n = int(input())\n",
        "    valuesString = input()\n",
        "    values = valuesString.split()\n",
        "    for i in range(len(values)):\n",
        "      values[i] = int(values[i])\n",
        "  # Print the instance of the problem\n",
        "    print(\"Problem size: \",n)\n",
        "    print(\"Problem instance: \",values)\n",
        "  else:\n",
        "    n = None\n",
        "\n",
        "# Broadcast the size of the problem, the number of entries\n",
        "# in the multiset to all participating nodes\n",
        "  n = comm.bcast(n,root=0)\n",
        "\n",
        "# Broadcast the multiset to all participating nodes\n",
        "  if rank == 0:\n",
        "    npValues = np.array(values)\n",
        "  else:\n",
        "    npValues = np.arange(n,dtype='i')\n",
        "\n",
        "  npValues = comm.bcast(npValues,root=0)\n",
        "\n",
        "# Calculate the size of the power set\n",
        "  nPartitions = int ( 2 ** n )\n",
        "\n",
        "# Calculate the portion of the power set that each\n",
        "# node will be working on\n",
        "  portionEachNode = nPartitions // number_nodes\n",
        "  initial = portionEachNode * rank;\n",
        "  if (rank != (number_nodes-1)):\n",
        "    final = initial + portionEachNode\n",
        "  else:\n",
        "    final = nPartitions\n",
        "\n",
        "  max_in_this_node = solve(npValues,nPartitions,n,initial,final)\n",
        "\n",
        "  result = comm.reduce(max_in_this_node,op=MPI.MAX)\n",
        "  if rank == 0:\n",
        "    if result == -1:\n",
        "      print(\"No solution found.\")\n",
        "    else:\n",
        "      printResults(result,n,npValues)\n",
        "  if rank == 0:\n",
        "    end = time.time()\n",
        "    elapsed = end - start\n",
        "    print(\"The program took: \",elapsed,\" seconds.\")"
      ],
      "metadata": {
        "colab": {
          "base_uri": "https://localhost:8080/"
        },
        "id": "gCITyxL2t3Vq",
        "outputId": "2f465881-bb57-4bf9-8565-97db595319ec"
      },
      "execution_count": 10,
      "outputs": [
        {
          "output_type": "stream",
          "name": "stdout",
          "text": [
            "Overwriting partition_mpi4py_numba.py\n"
          ]
        }
      ]
    },
    {
      "cell_type": "code",
      "source": [
        "\n",
        "%%writefile test20.Text\n",
        "20\n",
        "1 2 3 4 5 6 7 8 9 10 11 12 13 14 15 16 17 18 19 20"
      ],
      "metadata": {
        "colab": {
          "base_uri": "https://localhost:8080/"
        },
        "id": "tin44Vxqvwp-",
        "outputId": "788b43dd-de6a-4548-fc53-9102ac01817e"
      },
      "execution_count": 14,
      "outputs": [
        {
          "output_type": "stream",
          "name": "stdout",
          "text": [
            "Writing test20.Text\n"
          ]
        }
      ]
    },
    {
      "cell_type": "code",
      "source": [
        "!OMPI_ALLOW_RUN_AS_ROOT=1\n",
        "!mpiexec --allow-run-as-root -n 2 --oversubscribe python partition_mpi4py.py < test20.Text"
      ],
      "metadata": {
        "colab": {
          "base_uri": "https://localhost:8080/"
        },
        "id": "VhSq_bv0u3rh",
        "outputId": "6837383e-2bec-4434-c172-711c3894a447"
      },
      "execution_count": 15,
      "outputs": [
        {
          "output_type": "stream",
          "name": "stdout",
          "text": [
            "Problem size:  20\n",
            "Problem instance:  [1, 2, 3, 4, 5, 6, 7, 8, 9, 10, 11, 12, 13, 14, 15, 16, 17, 18, 19, 20]\n",
            "Solution:\n",
            "First partition: \n",
            "15  \n",
            "16  \n",
            "17  \n",
            "18  \n",
            "19  \n",
            "20  \n",
            "sum:  105\n",
            "Second partition: \n",
            "1  \n",
            "2  \n",
            "3  \n",
            "4  \n",
            "5  \n",
            "6  \n",
            "7  \n",
            "8  \n",
            "9  \n",
            "10  \n",
            "11  \n",
            "12  \n",
            "13  \n",
            "14  \n",
            "sum:  105\n",
            "The program took:  6.427655935287476  seconds.\n"
          ]
        }
      ]
    },
    {
      "cell_type": "code",
      "source": [
        "!OMPI_ALLOW_RUN_AS_ROOT=1\n",
        "!mpiexec --allow-run-as-root -n 2 --oversubscribe python partition_mpi4py_numba.py < test20.Text"
      ],
      "metadata": {
        "colab": {
          "base_uri": "https://localhost:8080/"
        },
        "id": "XOIrt72Lu_pa",
        "outputId": "d2ea2167-59bc-4428-ddc0-16b7dc2c02ca"
      },
      "execution_count": 16,
      "outputs": [
        {
          "output_type": "stream",
          "name": "stdout",
          "text": [
            "Problem size:  20\n",
            "Problem instance:  [1, 2, 3, 4, 5, 6, 7, 8, 9, 10, 11, 12, 13, 14, 15, 16, 17, 18, 19, 20]\n",
            "Solution:\n",
            "First partition: \n",
            "15  \n",
            "16  \n",
            "17  \n",
            "18  \n",
            "19  \n",
            "20  \n",
            "sum:  105\n",
            "Second partition: \n",
            "1  \n",
            "2  \n",
            "3  \n",
            "4  \n",
            "5  \n",
            "6  \n",
            "7  \n",
            "8  \n",
            "9  \n",
            "10  \n",
            "11  \n",
            "12  \n",
            "13  \n",
            "14  \n",
            "sum:  105\n",
            "The program took:  2.560936689376831  seconds.\n"
          ]
        }
      ]
    }
  ]
}